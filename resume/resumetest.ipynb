{
 "cells": [
  {
   "cell_type": "code",
   "execution_count": 1,
   "id": "d0400736",
   "metadata": {},
   "outputs": [],
   "source": [
    "from google import genai\n"
   ]
  },
  {
   "cell_type": "code",
   "execution_count": 5,
   "id": "27006183",
   "metadata": {},
   "outputs": [
    {
     "name": "stdout",
     "output_type": "stream",
     "text": [
      "AI learns patterns from data to make predictions or informed decisions.\n"
     ]
    }
   ],
   "source": [
    "from dotenv import load_dotenv\n",
    "envpath = \"../.env\"\n",
    "load_dotenv(envpath)\n",
    "import os\n",
    "import sys\n",
    "\n",
    "API=os.getenv(\"GOOGLEAPI\")\n",
    "client = genai.Client(api_key=API)\n",
    "\n",
    "response = client.models.generate_content(\n",
    "    model=\"gemini-2.5-flash\", contents=\"Explain how AI works in a few words\"\n",
    ")\n",
    "print(response.text)"
   ]
  },
  {
   "cell_type": "code",
   "execution_count": 7,
   "id": "d55b7ea5",
   "metadata": {},
   "outputs": [
    {
     "data": {
      "text/plain": [
       "'AI learns patterns from data to make predictions or informed decisions.'"
      ]
     },
     "execution_count": 7,
     "metadata": {},
     "output_type": "execute_result"
    }
   ],
   "source": [
    "response.text"
   ]
  },
  {
   "cell_type": "code",
   "execution_count": 8,
   "id": "824c745a",
   "metadata": {},
   "outputs": [
    {
     "name": "stdout",
     "output_type": "stream",
     "text": [
      "[ContentEmbedding(\n",
      "  values=[\n",
      "    -0.022374554,\n",
      "    -0.004560777,\n",
      "    0.013309286,\n",
      "    -0.0545072,\n",
      "    -0.02090443,\n",
      "    <... 3067 more items ...>,\n",
      "  ]\n",
      ")]\n"
     ]
    }
   ],
   "source": [
    "result = client.models.embed_content(\n",
    "        model=\"gemini-embedding-001\",\n",
    "        contents=\"What is the meaning of life?\")\n",
    "\n",
    "print(result.embeddings)"
   ]
  },
  {
   "cell_type": "code",
   "execution_count": 15,
   "id": "cdbe835d",
   "metadata": {},
   "outputs": [],
   "source": [
    "def geminiresponse(userinput:str):\n",
    "    client = genai.Client(api_key=API)\n",
    "\n",
    "    response = client.models.generate_content(\n",
    "        model=\"gemini-2.5-flash\", contents=userinput\n",
    "    )\n",
    "    return response.text\n"
   ]
  },
  {
   "cell_type": "code",
   "execution_count": 16,
   "id": "b6854a55",
   "metadata": {},
   "outputs": [],
   "source": [
    "test = geminiresponse(\"what are you\")"
   ]
  },
  {
   "cell_type": "code",
   "execution_count": 17,
   "id": "66a04dec",
   "metadata": {},
   "outputs": [
    {
     "name": "stdout",
     "output_type": "stream",
     "text": [
      "I am a large language model, trained by Google.\n",
      "\n",
      "My purpose is to process information and generate human-like text based on the vast amount of data I was trained on. I can understand and generate human-like text, answer questions, provide information, and engage in conversations on a wide range of topics.\n",
      "\n",
      "I don't have personal experiences, emotions, consciousness, or a physical body. I am a tool designed to assist with information and communication.\n"
     ]
    }
   ],
   "source": [
    "print(test)"
   ]
  },
  {
   "cell_type": "markdown",
   "id": "cf6c203c",
   "metadata": {},
   "source": [
    "### PROMPT ENGINEERING\n"
   ]
  },
  {
   "cell_type": "code",
   "execution_count": 18,
   "id": "05105ad1",
   "metadata": {},
   "outputs": [],
   "source": [
    "from pypdf import PdfReader\n",
    "reader=PdfReader(\"../UmarKhattab_Resume.pdf\")\n",
    "#Most PDF are 1 page. this is for 1 page pdf for now. Will make it for multiple pages\n",
    "page = reader.pages[0] \n",
    "page_content = page.extract_text()"
   ]
  },
  {
   "cell_type": "code",
   "execution_count": 33,
   "id": "6e10719c",
   "metadata": {},
   "outputs": [],
   "source": [
    "system_prompt = \"\"\"\n",
    "You are a Hiring Mananger.What do you think about this resume.\n",
    "\"\"\"\n",
    "\n",
    "def build_prompt(uploaded_text=\"\"):\n",
    "    prompt = system_prompt + \"\\n\\n\"\n",
    "    # for msg in history:\n",
    "    #     role = msg['role']\n",
    "    #     prompt += f\"{role.capitalize()}: {msg['content']}\\n\"\n",
    "    if uploaded_text:\n",
    "        prompt += f\"Uploaded file:\\n\\\"\\\"\\\"\\n{uploaded_text}\\n\\\"\\\"\\\"\\n\"\n",
    "    prompt += \"Assistant:\"\n",
    "    return prompt"
   ]
  },
  {
   "cell_type": "code",
   "execution_count": 34,
   "id": "2ff99982",
   "metadata": {},
   "outputs": [],
   "source": [
    "output = geminiresponse(build_prompt(page_content))"
   ]
  },
  {
   "cell_type": "code",
   "execution_count": 35,
   "id": "61554bb3",
   "metadata": {},
   "outputs": [
    {
     "name": "stdout",
     "output_type": "stream",
     "text": [
      "Okay, looking at Raja Umar Khattab's resume as a Hiring Manager, here's my assessment:\n",
      "\n",
      "---\n",
      "\n",
      "**Overall Impression:**\n",
      "\n",
      "This is a **strong resume for an entry-level or junior Data Science/Machine Learning/Data Engineering role.** The candidate clearly has a passion for the field, a solid foundational understanding, and has gone above and beyond to build practical projects. The quantitative results in the internships are excellent.\n",
      "\n",
      "---\n",
      "\n",
      "**Strengths:**\n",
      "\n",
      "1.  **Excellent Project Portfolio:** This is the absolute stand-out section. The projects are highly relevant to modern data/AI roles (LLMs, RAG, FastAPI, Docker, CI/CD, NLP, Web Scraping, Vector Databases). They demonstrate:\n",
      "    *   **Proactive Learning:** Building these complex projects shows initiative beyond coursework.\n",
      "    *   **Practical Application:** He's not just listing skills; he's showing *how* he applies them.\n",
      "    *   **Modern Tech Stack:** Using things like Pinecone, Claude, FastAPI, HuggingFace LLMs, Streamlit, and PySpark indicates he's keeping up with industry trends.\n",
      "    *   **Quantifiable Impact (Implicit):** While not explicitly quantified like the internships, the *scope* and *complexity* of the projects speak for themselves.\n",
      "    *   **Accessibility:** Providing `[Try It]` and `[Github Link]` for projects is fantastic and incredibly helpful for a hiring manager to quickly assess technical depth.\n",
      "\n",
      "2.  **Quantified Achievements in Internships:** The \"15% improvement in compliance\" and \"reducing support requests by 30%\" are gold. They show a results-oriented mindset and ability to make an impact, even in a short timeframe. This is what every hiring manager wants to see.\n",
      "\n",
      "3.  **Relevant Skillset (\"Areas of Expertise\"):** The list covers a very broad and deep range of tools and concepts relevant to Data Science, Machine Learning, and Data Engineering. This is great for Applicant Tracking Systems (ATS) and shows a comprehensive understanding.\n",
      "\n",
      "4.  **Strong Academic Background:** A high GPA in an MS in Computer Science (even if in progress) and a good CGPA in Electronic Engineering provides a solid theoretical foundation.\n",
      "\n",
      "5.  **Certifications & Activities:** These demonstrate continued learning, engagement, and a commitment to professional development.\n",
      "\n",
      "6.  **Good Contact Information:** All necessary contact details, plus Portfolio and Github links are crucial for these types of roles.\n",
      "\n",
      "---\n",
      "\n",
      "**Areas for Improvement / Suggestions:**\n",
      "\n",
      "1.  **\"Areas of Expertise\" Section Formatting:**\n",
      "    *   **Issue:** It's currently a dense wall of text. While good for keywords, it's hard to quickly scan and digest.\n",
      "    *   **Suggestion:** Break it up! Use bullet points, or group skills logically (e.g., Programming Languages, ML Frameworks, Cloud Platforms, Databases, Tools, Methodologies). Prioritize the most relevant 10-15 skills that directly align with the target job description.\n",
      "\n",
      "2.  **Resume Title/Header:**\n",
      "    *   **Issue:** \"Resume | Umar Khattab\" is redundant at the very top.\n",
      "    *   **Suggestion:** Just start with \"Raja Umar Khattab\" as the prominent header.\n",
      "\n",
      "3.  **Section Titles Clarity:**\n",
      "    *   **Issue:** \"Education Experience & Achievements\" is a bit clunky and mixes internships with achievements. \"FORMAL EDUCATION & TRAINING\" could be simpler.\n",
      "    *   **Suggestion:**\n",
      "        *   Change \"Education Experience & Achievements\" to \"Professional Experience\" or \"Internship Experience.\"\n",
      "        *   Change \"FORMAL EDUCATION & TRAINING\" to \"Education\" or \"Academics & Certifications.\"\n",
      "\n",
      "4.  **Consistency in \"Skills\" vs. \"Technologies Used\":**\n",
      "    *   **Issue:** Under internships, \"Skills\" are listed, some of which are soft (team communication). Under projects, \"Skills\" are listed, which are more technical (LLMs, vector database).\n",
      "    *   **Suggestion:** For projects, consider changing \"Skills\" to \"Technologies Used\" or \"Tech Stack\" to be more precise about the tools utilized. For internships, let the bullet points describe the skills; explicitly listing \"team communication\" isn't as impactful as demonstrating it.\n",
      "\n",
      "5.  **Education Dates Clarity for Master's:**\n",
      "    *   **Issue:** \"January 2025-Present\" for the Master's. While technically \"Present\" means current, starting in Jan 2025 and being \"Present\" is a bit unusual unless it's a very specific program or just beginning.\n",
      "    *   **Suggestion:** If it *starts* in Jan 2025, it should be \"Expected Graduation: [Year]\" or \"Beginning January 2025.\" If he's already enrolled and doing pre-requisites or research, it's fine as is, but could be clearer.\n",
      "\n",
      "6.  **Minor Typos/Grammar:**\n",
      "    *   \"LLM’S\" should be \"LLMs\" (no apostrophe for plural).\n",
      "    *   \"AL/ML\" in Certifications should likely be \"AI/ML.\"\n",
      "    *   \"CGPA:3.496\" could be rounded to \"CGPA: 3.5\" for cleaner presentation, if appropriate.\n",
      "\n",
      "---\n",
      "\n",
      "**Hiring Manager's Verdict:**\n",
      "\n",
      "I would absolutely bring this candidate in for an interview. The practical experience demonstrated through the projects, combined with the strong academic background and quantifiable achievements in internships, makes Umar a very compelling candidate for any data-centric role.\n",
      "\n",
      "My main focus during an interview would be to dive deep into his projects to understand his thought process, problem-solving skills, and independent learning ability. I'd also ask about his interests and how he sees himself growing in the data/AI space. The minor formatting issues are easily fixable and wouldn't deter me from considering him seriously.\n"
     ]
    }
   ],
   "source": [
    "print(output)"
   ]
  }
 ],
 "metadata": {
  "kernelspec": {
   "display_name": "venv",
   "language": "python",
   "name": "python3"
  },
  "language_info": {
   "codemirror_mode": {
    "name": "ipython",
    "version": 3
   },
   "file_extension": ".py",
   "mimetype": "text/x-python",
   "name": "python",
   "nbconvert_exporter": "python",
   "pygments_lexer": "ipython3",
   "version": "3.10.18"
  }
 },
 "nbformat": 4,
 "nbformat_minor": 5
}
