{
 "cells": [
  {
   "cell_type": "code",
   "execution_count": 2,
   "id": "d0400736",
   "metadata": {},
   "outputs": [],
   "source": [
    "from google import genai\n"
   ]
  },
  {
   "cell_type": "code",
   "execution_count": 3,
   "id": "27006183",
   "metadata": {},
   "outputs": [
    {
     "name": "stdout",
     "output_type": "stream",
     "text": [
      "It learns patterns from data to make predictions or decisions.\n"
     ]
    }
   ],
   "source": [
    "from dotenv import load_dotenv\n",
    "envpath = \"../.env\"\n",
    "load_dotenv(envpath)\n",
    "import os\n",
    "import sys\n",
    "\n",
    "API=os.getenv(\"GOOGLEAPI\")\n",
    "client = genai.Client(api_key=API)\n",
    "\n",
    "response = client.models.generate_content(\n",
    "    model=\"gemini-2.5-flash\", contents=\"Explain how AI works in a few words\"\n",
    ")\n",
    "print(response.text)"
   ]
  },
  {
   "cell_type": "code",
   "execution_count": 4,
   "id": "d55b7ea5",
   "metadata": {},
   "outputs": [
    {
     "data": {
      "text/plain": [
       "'It learns patterns from data to make predictions or decisions.'"
      ]
     },
     "execution_count": 4,
     "metadata": {},
     "output_type": "execute_result"
    }
   ],
   "source": [
    "response.text"
   ]
  },
  {
   "cell_type": "code",
   "execution_count": 5,
   "id": "824c745a",
   "metadata": {},
   "outputs": [
    {
     "name": "stdout",
     "output_type": "stream",
     "text": [
      "[ContentEmbedding(\n",
      "  values=[\n",
      "    -0.022374554,\n",
      "    -0.004560777,\n",
      "    0.013309286,\n",
      "    -0.0545072,\n",
      "    -0.02090443,\n",
      "    <... 3067 more items ...>,\n",
      "  ]\n",
      ")]\n"
     ]
    }
   ],
   "source": [
    "result = client.models.embed_content(\n",
    "        model=\"gemini-embedding-001\",\n",
    "        contents=\"What is the meaning of life?\")\n",
    "\n",
    "print(result.embeddings)"
   ]
  },
  {
   "cell_type": "code",
   "execution_count": 6,
   "id": "cdbe835d",
   "metadata": {},
   "outputs": [],
   "source": [
    "def geminiresponse(userinput:str):\n",
    "    client = genai.Client(api_key=API)\n",
    "\n",
    "    response = client.models.generate_content(\n",
    "        model=\"gemini-2.5-flash\", contents=userinput\n",
    "    )\n",
    "    return response.text\n"
   ]
  },
  {
   "cell_type": "code",
   "execution_count": 7,
   "id": "b6854a55",
   "metadata": {},
   "outputs": [],
   "source": [
    "test = geminiresponse(\"what are you\")"
   ]
  },
  {
   "cell_type": "code",
   "execution_count": 8,
   "id": "66a04dec",
   "metadata": {},
   "outputs": [
    {
     "name": "stdout",
     "output_type": "stream",
     "text": [
      "I am a large language model, an artificial intelligence (AI).\n",
      "\n",
      "I was trained by Google. My primary function is to process and generate human-like text, understand and respond to your questions, provide information, and assist with a wide range of tasks based on the vast amount of text data I was trained on.\n",
      "\n",
      "I don't have personal experiences, feelings, consciousness, or a physical body. I exist only as a computer program designed to understand and respond to your queries.\n"
     ]
    }
   ],
   "source": [
    "print(test)"
   ]
  },
  {
   "cell_type": "markdown",
   "id": "cf6c203c",
   "metadata": {},
   "source": [
    "### PROMPT ENGINEERING\n"
   ]
  },
  {
   "cell_type": "code",
   "execution_count": 9,
   "id": "05105ad1",
   "metadata": {},
   "outputs": [],
   "source": [
    "from pypdf import PdfReader\n",
    "reader=PdfReader(\"../UmarKhattab_Resume.pdf\")\n",
    "#Most PDF are 1 page. this is for 1 page pdf for now. Will make it for multiple pages\n",
    "page = reader.pages[0] \n",
    "page_content = page.extract_text()"
   ]
  },
  {
   "cell_type": "code",
   "execution_count": 34,
   "id": "10d06ec3",
   "metadata": {},
   "outputs": [
    {
     "name": "stdout",
     "output_type": "stream",
     "text": [
      "Text content:\n",
      " Resume | Umar Khattab \n",
      " \n",
      "Raja Umar Khattab \n",
      "270-792-1752 | ru.khattab@gmail.com | Kentucky,42101 United States | PortFolio | Github \n",
      "Areas of Expertise \n",
      "Python| Data Structures & Algorithm | Machine Learning Algorithms | Data Science | Data Analyst |Excel |TensorFlow | Java | Flask | Docker | Apache \n",
      "Hadoop| Apache PySpark | Data Engineering | Stream-lit | R-Programming | PowerBI | Linux | SQL |Statistics | Exploratory Data Analysis | Feature \n",
      "Engineering | DAX | SnowFlake | AWS S3 | Regression Analysis | Clustering | WebScraping | Pinecone | CI/CD | Databases | Natural language processing | \n",
      "Education Experience & Achievements \n",
      " \n",
      "K-Electric, Pakistan \n",
      "Internship- Power Generation                                                                                                February/2023 - March/2023 \n",
      "• Spearheaded comprehensive risk assessment at power plants through structured HIRA (Hazard Identification and Risk \n",
      "Assessment) exercises \n",
      "• Improved organizational risk awareness and safety compliance by identifying critical safety gaps and proposing actionable \n",
      "mitigation strategies resulting in 15% improvement in compliance \n",
      "• Skills: risk management, safety analysis, team communication, documentation \n",
      " \n",
      "EngroPowerGen, Pakistan  \n",
      "Internship – Instrumentation & Control                                                                         September/2022 - October/2022   \n",
      "• Facilitated seamless RFID system adoption across teams by leading user onboarding sessions, developing intuitive training \n",
      "manuals, and troubleshooting IT-related issues. \n",
      "• Increased staff efficiency and reduced support requests by streamlining IT processes and creating user -centric \n",
      "documentation reducing support requests by 30%. \n",
      "• Skills: RFID, technical documentation, IT support, team training \n",
      " \n",
      "PROJECTS  \n",
      "E-commerce AI Assistant (RUFUS-inspired) [Try It] | [Github Link] \n",
      "• Created a conversational shopping assistant using RAG and LLMs to answer user product queries in real time.   \n",
      "• Skills: LLM’S, RAG, vector database, beautifulsoup \n",
      "Employee Managment App [Github Link]            \n",
      "• Designed and built an employee management database app from scratch, integrating CRUD operations with a MySQL \n",
      "backend. Also implemented CI/CD workflows \n",
      "• Skills: tkinter, SQL database, Python, OOPs, CI/CD pipeline  \n",
      "Model Context Protocol [GithubLink]                  \n",
      "• Developed an AI agent leveraging Retrieval Augmented Generation (RAG) and fine -tuned LLMs, deployed via FastAPI and \n",
      "Claude as the MCP host. \n",
      "• Skills: mcp server, FastAPI, Claude, AI agents, vector database (pinecone), langchain \n",
      "TV-SHOW AI/NLP Analyzer | [Try It]  | [GithubLink]                  \n",
      "• Delivered an interactive visualization dashboard for show theme classification using zero shot learning.  \n",
      "• Engineering a relationship graph using PyVis to showcase character interaction dynamics  \n",
      "• Skills: ZeroShotClassifcation, LLM’s prompt engineering, Pandas, Python, Gradio, PyVis \n",
      "Web Scraping with LLM Fine Tuning | [Try It]  | [GithubLink]                  \n",
      "• Scraped web data with BeautifulSoup and transformed unstructured text into a clean, labeled dataset . \n",
      "• Fine-tuned a HuggingFace LLM to predict content categories, boosting model accuracy through task specific adaption . \n",
      "• Skills: NLP, text classification, LLM’S fine-tuning, BeautifulSoup, Pandas, Python, Gradio \n",
      " \n",
      "FORMAL EDUCATION & TRAINING \n",
      "Education \n",
      "Masters of Science in Computer Science | GPA : 4.00 January 2025-Present \n",
      "• Western Kentucky University, Bowling Green, Kentucky.  \n",
      "• Activities: Student Crew Member at WKU-PBS, Member of Muslim Student Association.  \n",
      "Bachelors of Engineering in Electronic Engineering CGPA:3.496 October 2020-2024 \n",
      "• Ned University of Engineering and Technology, Karachi, Pakistan \n",
      "• Activities: PR-Member of NAS, Volunteering at INTERACT’23 and CLIMATECH  \n",
      "•  \n",
      "Certifications \n",
      "• Udemy: AL/ML & Data Science, R-Programming, Data Analyst         |           Hacker-Rank: Python, SQL \n",
      "• Kaggle: Introduction to Machine Learning, Deep Learning  \n",
      "\n",
      "Hyperlinks found: ['mailto:ru.khattab@gmail.com', 'https://umarkhattab.vercel.app/', 'https://github.com/UmarKhattab09?tab=repositories', 'https://huggingface.co/spaces/UmarKhattab09/AmazonNLPproject', 'https://github.com/UmarKhattab09/AmazonEcho-NLP-Project', 'https://github.com/UmarKhattab09/EmployeeManagment', 'https://github.com/UmarKhattab09/Model-Context-Protocol', 'https://huggingface.co/spaces/UmarKhattab09/tvshowAINLP', 'https://github.com/UmarKhattab09/datascienceNLP', 'https://huggingface.co/spaces/UmarKhattab09/WebScraping_With_LLM_FineTuning', 'https://github.com/UmarKhattab09/WebScarping-LLM-FineTuning']\n"
     ]
    }
   ],
   "source": [
    "from pypdf import PdfReader\n",
    "\n",
    "reader = PdfReader(\"../UmarKhattab_Resume.pdf\")\n",
    "page = reader.pages[0]\n",
    "\n",
    "# Extract visible text (same as before)\n",
    "text = page.extract_text()\n",
    "\n",
    "# Now extract links\n",
    "links = []\n",
    "\n",
    "if \"/Annots\" in page:\n",
    "    for annot in page[\"/Annots\"]:\n",
    "        annot_obj = annot.get_object()\n",
    "        if annot_obj.get(\"/Subtype\") == \"/Link\":\n",
    "            if \"/A\" in annot_obj:\n",
    "                uri = annot_obj[\"/A\"].get(\"/URI\")\n",
    "                if uri:\n",
    "                    links.append(uri)\n",
    "\n",
    "print(\"Text content:\\n\", text)\n",
    "print(\"\\nHyperlinks found:\", links)\n"
   ]
  },
  {
   "cell_type": "code",
   "execution_count": null,
   "id": "6e10719c",
   "metadata": {},
   "outputs": [],
   "source": [
    "system_prompt = \"\"\"\n",
    "You are a Hiring Mananger.What do you think about this resume.\n",
    "\"\"\"\n",
    "\n",
    "def build_prompt(uploaded_text=\"\"):\n",
    "    prompt = system_prompt + \"\\n\\n\"\n",
    "    # for msg in history:\n",
    "    #     role = msg['role']\n",
    "    #     prompt += f\"{role.capitalize()}: {msg['content']}\\n\"\n",
    "    if uploaded_text:\n",
    "        prompt += f\"Uploaded file:\\n\\\"\\\"\\\"\\n{uploaded_text}\\n\\\"\\\"\\\"\\n\"\n",
    "    prompt += \"Assistant:\"\n",
    "    return prompt\n",
    "\n",
    "def getpersoninform(pdfinput:str):\n",
    "\n",
    "    system_prompt=\"\"\"\n",
    "                    You are provided a resume, extract the information in a json format. \n",
    "                    The json format must and include the person name,email,phone, GITHUB link,PORTFOLIO link,WEBSITE link AND LINKEDIN link all of these values needs to be in a list. If the person doesn't have any of these categories. Just leave it None\n",
    "                    also there are hy\n",
    "                    \"\"\"\n",
    "    prompt = system_prompt + \"\\n\\n\"\n",
    "    if pdfinput:\n",
    "        prompt += f\"Resume: \\n{pdfinput}\\n\"\n",
    "    prompt += \"ASSISTANT:\"\n",
    "    return prompt"
   ]
  },
  {
   "cell_type": "code",
   "execution_count": 35,
   "id": "d3834616",
   "metadata": {},
   "outputs": [
    {
     "ename": "TypeError",
     "evalue": "can only concatenate str (not \"list\") to str",
     "output_type": "error",
     "traceback": [
      "\u001b[1;31m---------------------------------------------------------------------------\u001b[0m",
      "\u001b[1;31mTypeError\u001b[0m                                 Traceback (most recent call last)",
      "Cell \u001b[1;32mIn[35], line 1\u001b[0m\n\u001b[1;32m----> 1\u001b[0m getpersoninform(\u001b[43mtext\u001b[49m\u001b[38;5;241;43m+\u001b[39;49m\u001b[43mlinks\u001b[49m)\n",
      "\u001b[1;31mTypeError\u001b[0m: can only concatenate str (not \"list\") to str"
     ]
    }
   ],
   "source": [
    "getpersoninform(text+links)"
   ]
  },
  {
   "cell_type": "code",
   "execution_count": 12,
   "id": "96a70bba",
   "metadata": {},
   "outputs": [],
   "source": [
    "info = geminiresponse(getpersoninform(page_content))"
   ]
  },
  {
   "cell_type": "code",
   "execution_count": 13,
   "id": "30d85b61",
   "metadata": {},
   "outputs": [
    {
     "data": {
      "text/plain": [
       "'{\\n  \"person_name\": [\\n    \"Raja Umar Khattab\"\\n  ],\\n  \"email\": [\\n    \"ru.khattab@gmail.com\"\\n  ],\\n  \"phone\": [\\n    \"270-792-1752\"\\n  ],\\n  \"GITHUB_link\": [\\n    null\\n  ],\\n  \"PORTFOLIO_link\": [\\n    null\\n  ],\\n  \"WEBSITE_link\": [\\n    null\\n  ],\\n  \"LINKEDIN_link\": [\\n    null\\n  ]\\n}'"
      ]
     },
     "execution_count": 13,
     "metadata": {},
     "output_type": "execute_result"
    }
   ],
   "source": [
    "cleaned_json = info.strip(\"```json\").strip(\"```\").strip()\n",
    "cleaned_json"
   ]
  },
  {
   "cell_type": "code",
   "execution_count": 14,
   "id": "1320cd1e",
   "metadata": {},
   "outputs": [
    {
     "data": {
      "text/plain": [
       "{'person_name': ['Raja Umar Khattab'],\n",
       " 'email': ['ru.khattab@gmail.com'],\n",
       " 'phone': ['270-792-1752'],\n",
       " 'GITHUB_link': [None],\n",
       " 'PORTFOLIO_link': [None],\n",
       " 'WEBSITE_link': [None],\n",
       " 'LINKEDIN_link': [None]}"
      ]
     },
     "execution_count": 14,
     "metadata": {},
     "output_type": "execute_result"
    }
   ],
   "source": [
    "import json\n",
    "data = json.loads(cleaned_json)\n",
    "data"
   ]
  },
  {
   "cell_type": "code",
   "execution_count": 15,
   "id": "3731882a",
   "metadata": {},
   "outputs": [],
   "source": [
    "import pandas as pd\n",
    "df=pd.DataFrame(data=data)"
   ]
  },
  {
   "cell_type": "code",
   "execution_count": 16,
   "id": "2ff99982",
   "metadata": {},
   "outputs": [],
   "source": [
    "output = geminiresponse(build_prompt(page_content))"
   ]
  },
  {
   "cell_type": "code",
   "execution_count": 17,
   "id": "61554bb3",
   "metadata": {},
   "outputs": [],
   "source": [
    "# print(output)"
   ]
  },
  {
   "cell_type": "code",
   "execution_count": null,
   "id": "75252694",
   "metadata": {},
   "outputs": [],
   "source": []
  },
  {
   "cell_type": "code",
   "execution_count": 18,
   "id": "8cfecd25",
   "metadata": {},
   "outputs": [],
   "source": [
    "def embeddedresponse(pdfinput:str):\n",
    "    client = genai.Client(api_key=API)\n",
    "\n",
    "    response = client.models.generate_content(\n",
    "        model=\"gemini-2.5-flash\", contents=pdfinput\n",
    "    )\n",
    "    return response"
   ]
  },
  {
   "cell_type": "code",
   "execution_count": 19,
   "id": "b60bca61",
   "metadata": {},
   "outputs": [],
   "source": [
    "# embeddedresponse(page_content)"
   ]
  },
  {
   "cell_type": "code",
   "execution_count": null,
   "id": "9c7c95de",
   "metadata": {},
   "outputs": [],
   "source": [
    "from sqlalchemy import create_engine\n",
    "import pandas as pd\n",
    "password = os.getenv(\"PASSWORD\")\n",
    "connf = f\"postgresql://postgres:{password}db.mgxaqvhduanocqxpjknp.supabase.co:5432/postgres\"\n",
    "engine = create_engine(connf)\n",
    "# df.to_sql(\"resume_data\", engine, if_exists='replace', index=False)  \n"
   ]
  },
  {
   "cell_type": "code",
   "execution_count": 21,
   "id": "45f8c46f",
   "metadata": {},
   "outputs": [],
   "source": [
    "import os\n",
    "from dotenv import load_dotenv\n",
    "envpath = \"../.env\"\n",
    "load_dotenv(envpath)\n",
    "from supabase import create_client, Client\n",
    "url: str = os.environ.get(\"SUPABASEURL\")\n",
    "key: str = os.environ.get(\"SUPABASEKEY\")\n",
    "supabase: Client = create_client(url, key)"
   ]
  },
  {
   "cell_type": "code",
   "execution_count": 29,
   "id": "2bcb6a53",
   "metadata": {},
   "outputs": [],
   "source": [
    "response = (\n",
    "    supabase.table(\"resume_data\")\n",
    "    .select(\"*\")\n",
    "    .execute()\n",
    ")"
   ]
  },
  {
   "cell_type": "code",
   "execution_count": 23,
   "id": "ae966e7c",
   "metadata": {},
   "outputs": [
    {
     "ename": "KeyError",
     "evalue": "'GITHUB link'",
     "output_type": "error",
     "traceback": [
      "\u001b[1;31m---------------------------------------------------------------------------\u001b[0m",
      "\u001b[1;31mKeyError\u001b[0m                                  Traceback (most recent call last)",
      "Cell \u001b[1;32mIn[23], line 1\u001b[0m\n\u001b[1;32m----> 1\u001b[0m \u001b[43mdata\u001b[49m\u001b[43m[\u001b[49m\u001b[38;5;124;43m'\u001b[39;49m\u001b[38;5;124;43mGITHUB link\u001b[39;49m\u001b[38;5;124;43m'\u001b[39;49m\u001b[43m]\u001b[49m\n",
      "\u001b[1;31mKeyError\u001b[0m: 'GITHUB link'"
     ]
    }
   ],
   "source": [
    "data['GITHUB link']"
   ]
  },
  {
   "cell_type": "code",
   "execution_count": 26,
   "id": "f64af1e7",
   "metadata": {},
   "outputs": [
    {
     "data": {
      "text/plain": [
       "{'person_name': ['Raja Umar Khattab'],\n",
       " 'email': ['ru.khattab@gmail.com'],\n",
       " 'phone': ['270-792-1752'],\n",
       " 'GITHUB_link': [None],\n",
       " 'PORTFOLIO_link': [None],\n",
       " 'WEBSITE_link': [None],\n",
       " 'LINKEDIN_link': [None]}"
      ]
     },
     "execution_count": 26,
     "metadata": {},
     "output_type": "execute_result"
    }
   ],
   "source": [
    "data"
   ]
  },
  {
   "cell_type": "code",
   "execution_count": 32,
   "id": "1ee56cd8",
   "metadata": {},
   "outputs": [
    {
     "name": "stdout",
     "output_type": "stream",
     "text": [
      "User already exists\n"
     ]
    }
   ],
   "source": [
    "\n",
    "existing = supabase.table(\"resume_data\").select(\"id\").eq(\"email\", data['email'][0]).execute()\n",
    "\n",
    "if existing.data:\n",
    "    print(\"User already exists\")\n",
    "else:\n",
    "    response = (\n",
    "        supabase.table(\"resume_data\")\n",
    "        .insert({\n",
    "            \"person_name\": data['person_name'][0],\n",
    "            \"email\": data['email'][0],\n",
    "            \"phone\": data['phone'][0],\n",
    "            \"github_link\": data.get('GITHUB link', None),\n",
    "            \"portfolio_link\": data.get('PORTFOLIO link', None),\n",
    "            \"website_link\": data.get('WEBSITE link', None),\n",
    "            \"linkedin_link\": data.get('LINKEDIN link', None)\n",
    "        })\n",
    "        .execute()\n",
    "    )\n",
    "    print(\"User inserted\")"
   ]
  }
 ],
 "metadata": {
  "kernelspec": {
   "display_name": "Python 3",
   "language": "python",
   "name": "python3"
  },
  "language_info": {
   "codemirror_mode": {
    "name": "ipython",
    "version": 3
   },
   "file_extension": ".py",
   "mimetype": "text/x-python",
   "name": "python",
   "nbconvert_exporter": "python",
   "pygments_lexer": "ipython3",
   "version": "3.10.18"
  }
 },
 "nbformat": 4,
 "nbformat_minor": 5
}
